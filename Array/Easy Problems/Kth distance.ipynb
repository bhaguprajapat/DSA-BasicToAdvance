{
 "cells": [
  {
   "cell_type": "markdown",
   "id": "689809ad",
   "metadata": {},
   "source": [
    "1. Kth distance\n",
    "Given an unsorted array arr and a number k which is smaller than the size of the array. Return true if the array contains any duplicate within k distance throughout the array else false.\n",
    "\n",
    "Examples:\n",
    "\n",
    "Input: arr[] = [1, 2, 3, 4, 1, 2, 3, 4], k = 3\n",
    "Output: false\n",
    "Explanation: All duplicates are more than k distance away.\n",
    "Input: arr[] = [1, 2, 3, 1, 4, 5], k = 3\n",
    "Output: true\n",
    "Explanation: 1 is repeated at distance 3.\n",
    "Input: arr[] = [6, 8, 4, 1, 8, 5, 7], k = 3\n",
    "Output: true\n",
    "Explanation: 8 is repeated at distance 3.\n",
    "Constraints:\n",
    "1 ≤ arr.size() ≤ 106\n",
    "1 ≤ k < arr.size()\n",
    "1 ≤ arr[i] ≤ 105\n",
    "\n"
   ]
  },
  {
   "cell_type": "code",
   "execution_count": 8,
   "id": "4bb50e7e",
   "metadata": {},
   "outputs": [
    {
     "name": "stdout",
     "output_type": "stream",
     "text": [
      "False\n"
     ]
    }
   ],
   "source": [
    "#User function Template for python3\n",
    "class Solution:\n",
    "    def checkDuplicatesWithinK(self, arr, k):\n",
    "        arr.sort()\n",
    "        count=1\n",
    "        last_num=arr[0]\n",
    "        for i in range(1,len(arr)):\n",
    "            if count>k:\n",
    "                return False\n",
    "            if last_num !=arr[i]:\n",
    "                last_num=arr[i]\n",
    "            else:\n",
    "                count+=1\n",
    "        return True\n",
    "sl=Solution()\n",
    "arr=[1, 2, 3, 4, 1, 2, 3, 4]\n",
    "k=3\n",
    "print(sl.checkDuplicatesWithinK(arr,k))"
   ]
  },
  {
   "cell_type": "code",
   "execution_count": 9,
   "id": "6df87cbd",
   "metadata": {},
   "outputs": [
    {
     "name": "stdout",
     "output_type": "stream",
     "text": [
      "False\n"
     ]
    }
   ],
   "source": [
    "#User function Template for python3\n",
    "class Solution:\n",
    "    def checkDuplicatesWithinK(self, arr, k):\n",
    "        n=len(arr)\n",
    "        for i in range(n):\n",
    "            if i+k<n:\n",
    "                if arr[i]==arr[i+k]:\n",
    "                    return True\n",
    "        return False\n",
    "sl=Solution()\n",
    "arr=[1, 2, 3, 4, 1, 2, 3, 4]\n",
    "k=3\n",
    "print(sl.checkDuplicatesWithinK(arr,k))"
   ]
  },
  {
   "cell_type": "code",
   "execution_count": null,
   "id": "1e750d3e",
   "metadata": {},
   "outputs": [
    {
     "name": "stdout",
     "output_type": "stream",
     "text": [
      "False\n"
     ]
    }
   ],
   "source": [
    "#User function Template for python3\n",
    "class Solution:\n",
    "    def checkDuplicatesWithinK(self, arr, k):\n",
    "        seen = {} \n",
    "        for i, num in enumerate(arr):\n",
    "            if num in seen and i - seen[num] <= k:\n",
    "                return True\n",
    "            seen[num] = i\n",
    "        return False\n",
    "sl=Solution()\n",
    "arr=[1, 2, 3, 4, 1, 2, 3, 4]\n",
    "k=3\n",
    "print(sl.checkDuplicatesWithinK(arr,k))"
   ]
  },
  {
   "cell_type": "code",
   "execution_count": 28,
   "id": "4075d00b",
   "metadata": {},
   "outputs": [
    {
     "name": "stdout",
     "output_type": "stream",
     "text": [
      "['G', 'F', 'G']\n"
     ]
    }
   ],
   "source": [
    "a = ['Geeks', 'for', 'Geeks'] \n",
    "b = [i[0].upper() for i in a] \n",
    "print(b) \n"
   ]
  },
  {
   "cell_type": "code",
   "execution_count": 29,
   "id": "9db0e780",
   "metadata": {},
   "outputs": [
    {
     "name": "stdout",
     "output_type": "stream",
     "text": [
      "k\n"
     ]
    }
   ],
   "source": [
    "li = ['Harsh', 'Pratik', 'Bob', 'Dhruv'] \n",
    "print (li[1][-1]) \n"
   ]
  },
  {
   "cell_type": "code",
   "execution_count": 30,
   "id": "c3bb4fa6",
   "metadata": {},
   "outputs": [
    {
     "name": "stdout",
     "output_type": "stream",
     "text": [
      "[9, 18, 27, 36, 45]\n"
     ]
    }
   ],
   "source": [
    "a = [10, 20, 30, 40, 50] \n",
    "b = [1, 2, 3, 4, 5] \n",
    "\n",
    "\n",
    "subtracted = list()\n",
    "for a, b in zip(a, b):\n",
    "    item = a -b\n",
    "    subtracted.append(item)\n",
    "\n",
    "print(subtracted)\n"
   ]
  },
  {
   "cell_type": "code",
   "execution_count": 31,
   "id": "61a45f94",
   "metadata": {},
   "outputs": [
    {
     "name": "stdout",
     "output_type": "stream",
     "text": [
      "[0, 2, 3, 4, 5]\n"
     ]
    }
   ],
   "source": [
    "a = [1, 2, 3, 4, 5] \n",
    "b = a \n",
    "b[0] = 0; \n",
    "\n",
    "print(a)  \n"
   ]
  },
  {
   "cell_type": "code",
   "execution_count": 32,
   "id": "a155682a",
   "metadata": {},
   "outputs": [
    {
     "name": "stdout",
     "output_type": "stream",
     "text": [
      "5\n"
     ]
    }
   ],
   "source": [
    "# statement 1\n",
    "li = range(100, 110) \n",
    "\n",
    "# statement 2\n",
    "print (li.index(105))\n"
   ]
  },
  {
   "cell_type": "code",
   "execution_count": 33,
   "id": "9a95d477",
   "metadata": {},
   "outputs": [
    {
     "name": "stdout",
     "output_type": "stream",
     "text": [
      "0\n",
      "1\n",
      "2\n",
      "12\n"
     ]
    }
   ],
   "source": [
    "a = ['Learn', 'Quiz', 'Practice', 'Contribute'] \n",
    "b = a \n",
    "c = a[:] \n",
    "\n",
    "b[0] = 'Code'\n",
    "c[1] = 'Mcq'\n",
    "\n",
    "count = 0\n",
    "for c in (a, b, c): \n",
    "\t(print(count))\n",
    "\tif c[0] == 'Code': \n",
    "\t\tcount += 1\n",
    "\tif c[1] == 'Mcq': \n",
    "\t\tcount += 10\n",
    "\n",
    "print (count) \n"
   ]
  },
  {
   "cell_type": "code",
   "execution_count": 34,
   "id": "ce7dc989",
   "metadata": {},
   "outputs": [
    {
     "name": "stdout",
     "output_type": "stream",
     "text": [
      "5\n"
     ]
    }
   ],
   "source": [
    "def addToList(a): \n",
    "\ta += [10] \n",
    "b = [10, 20, 30, 40] \n",
    "addToList(b) \n",
    "print (len(b)) \n"
   ]
  }
 ],
 "metadata": {
  "kernelspec": {
   "display_name": "base",
   "language": "python",
   "name": "python3"
  },
  "language_info": {
   "codemirror_mode": {
    "name": "ipython",
    "version": 3
   },
   "file_extension": ".py",
   "mimetype": "text/x-python",
   "name": "python",
   "nbconvert_exporter": "python",
   "pygments_lexer": "ipython3",
   "version": "3.12.3"
  }
 },
 "nbformat": 4,
 "nbformat_minor": 5
}
