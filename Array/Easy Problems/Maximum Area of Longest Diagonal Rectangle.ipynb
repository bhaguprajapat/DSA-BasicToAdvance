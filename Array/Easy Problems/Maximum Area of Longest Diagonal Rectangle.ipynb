{
 "cells": [
  {
   "cell_type": "markdown",
   "id": "71d192d2",
   "metadata": {},
   "source": [
    "Maximum Area of Longest Diagonal Rectangle\n",
    "You are given a 2D 0-indexed integer array dimensions.\n",
    "\n",
    "For all indices i, 0 <= i < dimensions.length, dimensions[i][0] represents the length and dimensions[i][1] represents the width of the rectangle i.\n",
    "\n",
    "Return the area of the rectangle having the longest diagonal. If there are multiple rectangles with the longest diagonal, return the area of the rectangle having the maximum area.\n",
    "\n",
    " \n",
    "\n",
    "Example 1:\n",
    "\n",
    "Input: dimensions = [[9,3],[8,6]]\n",
    "Output: 48\n",
    "Explanation: \n",
    "For index = 0, length = 9 and width = 3. Diagonal length = sqrt(9 * 9 + 3 * 3) = sqrt(90) ≈ 9.487.\n",
    "For index = 1, length = 8 and width = 6. Diagonal length = sqrt(8 * 8 + 6 * 6) = sqrt(100) = 10.\n",
    "So, the rectangle at index 1 has a greater diagonal length therefore we return area = 8 * 6 = 48.\n",
    "Example 2:\n",
    "\n",
    "Input: dimensions = [[3,4],[4,3]]\n",
    "Output: 12\n",
    "Explanation: Length of diagonal is the same for both which is 5, so maximum area = 12."
   ]
  },
  {
   "cell_type": "code",
   "execution_count": 1,
   "id": "ce846d13",
   "metadata": {},
   "outputs": [
    {
     "name": "stdout",
     "output_type": "stream",
     "text": [
      "48\n"
     ]
    }
   ],
   "source": [
    "class Solution(object):\n",
    "    def areaOfMaxDiagonal(self, dimensions):\n",
    "        m,n=len(dimensions),len(dimensions[0])\n",
    "        max_area=0\n",
    "        for i in range(m):\n",
    "            for j in range(n-1):\n",
    "                max_area=max(max_area,dimensions[i][j]*dimensions[i][j+1])\n",
    "        return max_area\n",
    "sl=Solution()\n",
    "dimensions = [[9,3],[8,6]]\n",
    "print(sl.areaOfMaxDiagonal(dimensions))\n",
    "        "
   ]
  },
  {
   "cell_type": "code",
   "execution_count": 2,
   "id": "2f39d16b",
   "metadata": {},
   "outputs": [
    {
     "name": "stdout",
     "output_type": "stream",
     "text": [
      "48\n"
     ]
    }
   ],
   "source": [
    "class Solution(object):\n",
    "    def areaOfMaxDiagonal(self, dimensions):\n",
    "        max_area,mida2=0,0\n",
    "        for width,height in dimensions:\n",
    "            dia2= width*width+height*height\n",
    "            if mida2<dia2:\n",
    "                mida2=dia2\n",
    "                max_area=0\n",
    "            if dia2==mida2:\n",
    "                max_area=max(max_area,width*height)\n",
    "        return max_area\n",
    "sl=Solution()\n",
    "dimensions = [[9,3],[8,6]]\n",
    "print(sl.areaOfMaxDiagonal(dimensions))\n",
    "        "
   ]
  }
 ],
 "metadata": {
  "kernelspec": {
   "display_name": "base",
   "language": "python",
   "name": "python3"
  },
  "language_info": {
   "codemirror_mode": {
    "name": "ipython",
    "version": 3
   },
   "file_extension": ".py",
   "mimetype": "text/x-python",
   "name": "python",
   "nbconvert_exporter": "python",
   "pygments_lexer": "ipython3",
   "version": "3.12.3"
  }
 },
 "nbformat": 4,
 "nbformat_minor": 5
}
