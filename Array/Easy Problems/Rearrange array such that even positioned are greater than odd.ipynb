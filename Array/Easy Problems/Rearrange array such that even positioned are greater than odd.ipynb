{
 "cells": [
  {
   "cell_type": "markdown",
   "id": "5e65377c",
   "metadata": {},
   "source": [
    "1. Rearrange array such that even positioned are greater than odd\n",
    "Even Greater than Odd\n",
    "Difficulty: EasyAccuracy: 49.91%Submissions: 12K+Points: 2\n",
    "Given an array arr, rearrange the array according to the following relations :\n",
    "\n",
    "arr[i] >= arr[i-1], if i is even.\n",
    "arr[i] <= arr[i-1], if i is odd.\n",
    "[Considering 1-base indexed array]\n",
    "\n",
    "Return the rearranged array.\n",
    "\n",
    "Note: The driver code will print \"true\" if your output array satisfies the conditions; otherwise, it will print \"false\".\n",
    "\n",
    "Example:\n",
    "\n",
    "Input: arr[] = [1, 2, 2, 1]\n",
    "Output: [1, 2, 1, 2]\n",
    "Explanation: Both 2s are at even positions and 1s at odd positions, satisfying the given conditions.\n",
    "Input: arr[] = [1, 3, 2]\n",
    "Output: [1, 3, 2]\n",
    "Explanation: The array is already arranged according to the conditions.\n",
    "Constraints:"
   ]
  },
  {
   "cell_type": "code",
   "execution_count": null,
   "id": "2a8eef22",
   "metadata": {},
   "outputs": [
    {
     "name": "stdout",
     "output_type": "stream",
     "text": [
      "[1, 2, 1, 2]\n"
     ]
    }
   ],
   "source": [
    "class Solution:\n",
    "    def rearrangeArray(self, arr):\n",
    "        for i in range(1,len(arr)):\n",
    "            if i+1%2==0:\n",
    "                if arr[i]>=arr[i-1]:\n",
    "                    arr[i],arr[i-1]=arr[i-1],arr[i]\n",
    "            else:\n",
    "                if arr[i]<=arr[i-1]:\n",
    "                    arr[i],arr[i-1]=arr[i-1],arr[i]\n",
    "                    \n",
    "        return arr\n",
    "sl=Solution()\n",
    "arr=[1,2,2,1]\n",
    "print(sl.rearrangeArray(arr))\n"
   ]
  }
 ],
 "metadata": {
  "kernelspec": {
   "display_name": "base",
   "language": "python",
   "name": "python3"
  },
  "language_info": {
   "codemirror_mode": {
    "name": "ipython",
    "version": 3
   },
   "file_extension": ".py",
   "mimetype": "text/x-python",
   "name": "python",
   "nbconvert_exporter": "python",
   "pygments_lexer": "ipython3",
   "version": "3.12.3"
  }
 },
 "nbformat": 4,
 "nbformat_minor": 5
}
