{
 "cells": [
  {
   "cell_type": "markdown",
   "id": "35418231",
   "metadata": {},
   "source": [
    "You are given an array arr[], the task is to return a list elements of arr in alternate order (starting from index 0).\n",
    "\n",
    "Examples:\n",
    "\n",
    "Input: arr[] = [1, 2, 3, 4]\n",
    "Output: 1 3\n",
    "Explanation:\n",
    "Take first element: 1\n",
    "Skip second element: 2\n",
    "Take third element: 3\n",
    "Skip fourth element: 4\n",
    "Input: arr[] = [1, 2, 3, 4, 5]\n",
    "Output: 1 3 5\n",
    "Explanation:\n",
    "Take first element: 1\n",
    "Skip second element: 2\n",
    "Take third element: 3\n",
    "Skip fourth element: 4\n",
    "Take fifth element: 5\n",
    "Constraints:\n",
    "1 <=  arr.size <= 105\n",
    "1 <= arr[i] <= 105\n",
    "\n"
   ]
  },
  {
   "cell_type": "code",
   "execution_count": 1,
   "id": "9a299db4",
   "metadata": {},
   "outputs": [
    {
     "name": "stdout",
     "output_type": "stream",
     "text": [
      "[1, 3]\n"
     ]
    }
   ],
   "source": [
    "class Solution:\n",
    "    def getAlternates(self, arr):\n",
    "        res=[]\n",
    "        for i in range(0,len(arr),2):\n",
    "            res.append(arr[i])\n",
    "        return res\n",
    "sl=Solution()\n",
    "arr=[1, 2, 3, 4]\n",
    "print(sl.getAlternates(arr))"
   ]
  }
 ],
 "metadata": {
  "kernelspec": {
   "display_name": "base",
   "language": "python",
   "name": "python3"
  },
  "language_info": {
   "codemirror_mode": {
    "name": "ipython",
    "version": 3
   },
   "file_extension": ".py",
   "mimetype": "text/x-python",
   "name": "python",
   "nbconvert_exporter": "python",
   "pygments_lexer": "ipython3",
   "version": "3.12.3"
  }
 },
 "nbformat": 4,
 "nbformat_minor": 5
}
