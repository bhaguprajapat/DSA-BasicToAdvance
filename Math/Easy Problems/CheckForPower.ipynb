{
 "cells": [
  {
   "cell_type": "markdown",
   "id": "4c006014",
   "metadata": {},
   "source": [
    "Check for Power\n",
    "Given two positive integers x and y, determine if y is a power of x. If y is a power of x, return True. Otherwise, return False.\n",
    "\n",
    "Examples:\n",
    "\n",
    "Input: x = 2, y = 8\n",
    "Output: True \n",
    "Explanation: 23 is equal to 8.\n",
    "Input: x = 1, y = 8\n",
    "Output: False\n",
    "Explanation: Any power of 1 is not equal to 8.\n",
    "Constraints: \n",
    "1 <= x <= 103\n",
    "1 <= y <= 108"
   ]
  },
  {
   "cell_type": "code",
   "execution_count": 5,
   "id": "9f9075c8",
   "metadata": {},
   "outputs": [
    {
     "name": "stdout",
     "output_type": "stream",
     "text": [
      "False\n"
     ]
    }
   ],
   "source": [
    "#User function Template for python3\n",
    "class Solution:\n",
    "    def isPowerOfAnother (ob,X,Y):\n",
    "        if x<=1:\n",
    "            return False\n",
    "        if y%x==0:\n",
    "            return True\n",
    "        else:\n",
    "            return False \n",
    "sl=Solution()\n",
    "x=1\n",
    "y=8\n",
    "print(sl.isPowerOfAnother(x,y))"
   ]
  }
 ],
 "metadata": {
  "kernelspec": {
   "display_name": "base",
   "language": "python",
   "name": "python3"
  },
  "language_info": {
   "codemirror_mode": {
    "name": "ipython",
    "version": 3
   },
   "file_extension": ".py",
   "mimetype": "text/x-python",
   "name": "python",
   "nbconvert_exporter": "python",
   "pygments_lexer": "ipython3",
   "version": "3.12.3"
  }
 },
 "nbformat": 4,
 "nbformat_minor": 5
}
