{
 "cells": [
  {
   "cell_type": "markdown",
   "id": "10105bb2",
   "metadata": {},
   "source": [
    "Prime Number\n",
    "Given a number n, determine whether it is a prime number or not.\n",
    "Note: A prime number is a number greater than 1 that has no positive divisors other than 1 and itself.\n",
    "\n",
    "Examples :\n",
    "\n",
    "Input: n = 7\n",
    "Output: true\n",
    "Explanation: 7 has exactly two divisors: 1 and 7, making it a prime number.\n",
    "Input: n = 25\n",
    "Output: false\n",
    "Explanation: 25 has more than two divisors: 1, 5, and 25, so it is not a prime number.\n",
    "Input: n = 1\n",
    "Output: false\n",
    "Explanation: 1 has only one divisor (1 itself), which is not sufficient for it to be considered prime.\n",
    "Constraints:\n",
    "1 ≤ n ≤ 109\n",
    "\n"
   ]
  },
  {
   "cell_type": "code",
   "execution_count": null,
   "id": "e5fcc022",
   "metadata": {},
   "outputs": [
    {
     "name": "stdout",
     "output_type": "stream",
     "text": [
      "False\n"
     ]
    }
   ],
   "source": [
    "class Solution:\n",
    "    def isPrime(self, n):\n",
    "        if n<=1:\n",
    "            return False\n",
    "        for i in range(2,n):\n",
    "            if n%i==0:\n",
    "                return False\n",
    "        return True\n",
    "sl=Solution()\n",
    "n=4\n",
    "print(sl.isPrime(n))\n"
   ]
  },
  {
   "cell_type": "code",
   "execution_count": 7,
   "id": "1c1d3e94",
   "metadata": {},
   "outputs": [
    {
     "name": "stdout",
     "output_type": "stream",
     "text": [
      "False\n"
     ]
    }
   ],
   "source": [
    "import math\n",
    "class Solution:\n",
    "    def isPrime(self, n):\n",
    "        if n<=1:\n",
    "            return False\n",
    "        for i in range(2,int(math.sqrt(n))+1):\n",
    "            if (n%i==0):\n",
    "                return False\n",
    "        return True\n",
    "        \n",
    "sl=Solution()\n",
    "n=4\n",
    "print(sl.isPrime(n))\n"
   ]
  }
 ],
 "metadata": {
  "kernelspec": {
   "display_name": "base",
   "language": "python",
   "name": "python3"
  },
  "language_info": {
   "codemirror_mode": {
    "name": "ipython",
    "version": 3
   },
   "file_extension": ".py",
   "mimetype": "text/x-python",
   "name": "python",
   "nbconvert_exporter": "python",
   "pygments_lexer": "ipython3",
   "version": "3.12.3"
  }
 },
 "nbformat": 4,
 "nbformat_minor": 5
}
