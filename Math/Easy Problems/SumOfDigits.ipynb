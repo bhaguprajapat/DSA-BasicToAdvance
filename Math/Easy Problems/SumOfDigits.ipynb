{
 "cells": [
  {
   "cell_type": "markdown",
   "id": "5bbde0d0",
   "metadata": {},
   "source": [
    "Sum Of Digits\n",
    "Given a positive number n. Find the sum of all the digits of n.\n",
    "\n",
    "Examples:\n",
    "\n",
    "Input: n = 687\n",
    "Output: 21\n",
    "Explanation: Sum of 687's digits: 6 + 8 + 7 = 21\n",
    "Input: n = 12\n",
    "Output 3\n",
    "Explanation: Sum of 12's digits: 1 + 2 = 3\n",
    "Constraints:\n",
    "1 <= n <= 105"
   ]
  },
  {
   "cell_type": "code",
   "execution_count": 16,
   "id": "8c29828d",
   "metadata": {},
   "outputs": [
    {
     "name": "stdout",
     "output_type": "stream",
     "text": [
      "21\n"
     ]
    }
   ],
   "source": [
    "class Solution:\n",
    "    def sumOfDigits(self, n):\n",
    "        n=str(n)\n",
    "        n.split()\n",
    "        sum_all=0\n",
    "        for i in n:\n",
    "            sum_all+=int(i)\n",
    "        return sum_all\n",
    "sl=Solution()\n",
    "n=687\n",
    "print(sl.sumOfDigits(n))"
   ]
  },
  {
   "cell_type": "code",
   "execution_count": 17,
   "id": "775013a7",
   "metadata": {},
   "outputs": [
    {
     "name": "stdout",
     "output_type": "stream",
     "text": [
      "21\n"
     ]
    }
   ],
   "source": [
    "class Solution:\n",
    "    def sumOfDigits(self, n):\n",
    "       # Base Case\n",
    "        if n == 0:\n",
    "            return 0\n",
    "    \n",
    "        # Recursive Case\n",
    "        return n % 10 + self.sumOfDigits(n // 10)\n",
    "sl=Solution()\n",
    "n=687\n",
    "print(sl.sumOfDigits(n))"
   ]
  }
 ],
 "metadata": {
  "kernelspec": {
   "display_name": "base",
   "language": "python",
   "name": "python3"
  },
  "language_info": {
   "codemirror_mode": {
    "name": "ipython",
    "version": 3
   },
   "file_extension": ".py",
   "mimetype": "text/x-python",
   "name": "python",
   "nbconvert_exporter": "python",
   "pygments_lexer": "ipython3",
   "version": "3.12.3"
  }
 },
 "nbformat": 4,
 "nbformat_minor": 5
}
