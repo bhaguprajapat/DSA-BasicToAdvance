{
 "cells": [
  {
   "cell_type": "markdown",
   "id": "f8e88db4",
   "metadata": {},
   "source": [
    "Reverse digits\n",
    "You are given an integer n. Your task is to reverse the digits, ensuring that the reversed number has no leading zeroes.\n",
    "\n",
    "Examples:\n",
    "\n",
    "Input: n = 122\n",
    "Output: 221\n",
    "Explanation: By reversing the digits of number, number will change into 221.\n",
    "Input : n = 200\n",
    "Output: 2\n",
    "Explanation: By reversing the digits of number, number will change into 2.\n",
    "Input : n = 12345 \n",
    "Output: 54321\n",
    "Explanation: By reversing the digits of number, number will change into 54321.\n",
    "Constraints:\n",
    "1 <= n <= 106\n",
    "\n"
   ]
  },
  {
   "cell_type": "code",
   "execution_count": 2,
   "id": "e5bea679",
   "metadata": {},
   "outputs": [
    {
     "name": "stdout",
     "output_type": "stream",
     "text": [
      "54321\n"
     ]
    }
   ],
   "source": [
    "#User function Template for python3\n",
    "\n",
    "class Solution:\n",
    "\tdef reverseDigits(self, n):\n",
    "\t\t# converting number to string\n",
    "            s = str(n)\n",
    "        # reversing the string\n",
    "            s = list(s)\n",
    "            s.reverse()\n",
    "            s = ''.join(s)\n",
    "\n",
    "        # converting string to integer\n",
    "            n = int(s)\n",
    "            return n\n",
    "sl=Solution()\n",
    "n=12345\n",
    "print(sl.reverseDigits(n))"
   ]
  }
 ],
 "metadata": {
  "kernelspec": {
   "display_name": "base",
   "language": "python",
   "name": "python3"
  },
  "language_info": {
   "codemirror_mode": {
    "name": "ipython",
    "version": 3
   },
   "file_extension": ".py",
   "mimetype": "text/x-python",
   "name": "python",
   "nbconvert_exporter": "python",
   "pygments_lexer": "ipython3",
   "version": "3.12.3"
  }
 },
 "nbformat": 4,
 "nbformat_minor": 5
}
