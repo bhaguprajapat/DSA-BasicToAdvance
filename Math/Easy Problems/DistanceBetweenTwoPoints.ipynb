{
 "cells": [
  {
   "cell_type": "markdown",
   "id": "1c997ecf",
   "metadata": {},
   "source": [
    "Distance between 2 points\n",
    "Given coordinates of 2 points on a cartesian plane, find the distance between them rounded up to nearest integer.\n",
    "\n",
    "Example 1:\n",
    "\n",
    "Input: 0 0 2 -2\n",
    "Output: 3\n",
    "Explanation: Distance between (0, 0) \n",
    "and (2, -2) is 3.\n",
    "Example 2:\n",
    "\n",
    "Input: -20 23 -15 68\n",
    "Output: 45\n",
    "Explanation: Distance between (-20, 23) \n",
    "and (-15, 68) is 45.\n",
    "Your Task:\n",
    "You don't need to read or print anything. Your task is to complete the function distance() which takes x1, y1, x2 and y2 as input parameter and returns the distance between the given two points.\n",
    "\n",
    "Expected Time Complexity: O(1)\n",
    "Expected Space Complexity: O(1)\n",
    "\n",
    "Constraints:\n",
    "-1000 <= x1, y1, x2, y2 <= 1000"
   ]
  },
  {
   "cell_type": "code",
   "execution_count": 8,
   "id": "5e1bd613",
   "metadata": {},
   "outputs": [
    {
     "name": "stdout",
     "output_type": "stream",
     "text": [
      "3\n"
     ]
    }
   ],
   "source": [
    "#User function Template for python3\n",
    "import math\n",
    "class Solution:\n",
    "\tdef distance(self, x1, y1, x2, y2):\n",
    "            dx = x2 - x1\n",
    "            dy = y2 - y1\n",
    "            dist = math.sqrt(dx*dx + dy*dy)\n",
    "            return math.ceil(dist)\n",
    "sl=Solution()\n",
    "x1,y1,x2,y2=-0,0,2,-2\n",
    "print(sl.distance(x1,y1,x2,y2))"
   ]
  }
 ],
 "metadata": {
  "kernelspec": {
   "display_name": "base",
   "language": "python",
   "name": "python3"
  },
  "language_info": {
   "codemirror_mode": {
    "name": "ipython",
    "version": 3
   },
   "file_extension": ".py",
   "mimetype": "text/x-python",
   "name": "python",
   "nbconvert_exporter": "python",
   "pygments_lexer": "ipython3",
   "version": "3.12.3"
  }
 },
 "nbformat": 4,
 "nbformat_minor": 5
}
