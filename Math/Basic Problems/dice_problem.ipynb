{
 "cells": [
  {
   "cell_type": "markdown",
   "id": "f4207b55",
   "metadata": {},
   "source": [
    " dice problem\n",
    " You are given a cubic dice with 6 faces. All the individual faces have a number printed on them. The numbers are in the range of 1 to 6, like any ordinary dice. You will be provided with a face of this cube, your task is to guess the number on the opposite face of the cube.\n",
    "\n",
    "Examples:\n",
    "\n",
    "Input: n = 6\n",
    "Output: 1\n",
    "Explanation: For dice facing number 6 opposite face will have the number 1.\n",
    "Input: n = 2\n",
    "Output: 5\n",
    "Explanation: For dice facing number 5 opposite face will have the number 2.\n",
    "Constraints:\n",
    "1 <= n <= 6\n",
    "\n"
   ]
  },
  {
   "cell_type": "code",
   "execution_count": 12,
   "id": "c994c217",
   "metadata": {},
   "outputs": [
    {
     "name": "stdout",
     "output_type": "stream",
     "text": [
      "1\n"
     ]
    }
   ],
   "source": [
    "class Solution:\n",
    "    def oppositeFaceOfDice(self, n):\n",
    "        if n == 1:\n",
    "            return 6\n",
    "        elif n == 2:\n",
    "            return 5\n",
    "        elif n == 3:\n",
    "            return 4\n",
    "        elif n == 4:\n",
    "            return 3\n",
    "        elif n == 5:\n",
    "            return 2\n",
    "        elif n == 6:\n",
    "            return 1\n",
    "        else:\n",
    "            return -1\n",
    "\n",
    "sl = Solution()\n",
    "n = 6\n",
    "print(sl.oppositeFaceOfDice(n))   # Output: 1\n"
   ]
  },
  {
   "cell_type": "code",
   "execution_count": 13,
   "id": "164f1b9c",
   "metadata": {},
   "outputs": [
    {
     "name": "stdout",
     "output_type": "stream",
     "text": [
      "1\n"
     ]
    }
   ],
   "source": [
    "class Solution:\n",
    "    def oppositeFaceOfDice(self, n):\n",
    "        if 1<=n>=6:\n",
    "            return (7-n)\n",
    "        else:\n",
    "            return -1\n",
    "\n",
    "sl = Solution()\n",
    "n = 6\n",
    "print(sl.oppositeFaceOfDice(n))  \n"
   ]
  }
 ],
 "metadata": {
  "kernelspec": {
   "display_name": "base",
   "language": "python",
   "name": "python3"
  },
  "language_info": {
   "codemirror_mode": {
    "name": "ipython",
    "version": 3
   },
   "file_extension": ".py",
   "mimetype": "text/x-python",
   "name": "python",
   "nbconvert_exporter": "python",
   "pygments_lexer": "ipython3",
   "version": "3.12.3"
  }
 },
 "nbformat": 4,
 "nbformat_minor": 5
}
