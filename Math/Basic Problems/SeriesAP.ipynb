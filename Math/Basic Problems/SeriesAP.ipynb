{
 "cells": [
  {
   "cell_type": "markdown",
   "id": "fcb85059",
   "metadata": {},
   "source": [
    "Series AP\n",
    "Given the first 2 terms a1 and a2 of an Arithmetic Series. Find the nth term of the series. \n",
    "\n",
    "Examples:\n",
    "\n",
    "Input: a1 = 2, a2 = 3, n = 4\n",
    "Output: 5\n",
    "Explanation: The series is: 2,3,4,5,6.... Thus, the 4th term is 5.\n",
    "Input: a1 = 1, a2 = 3, n = 10\n",
    "Output: 19\n",
    "Explanation: The series is: 1,3,5,7,9,11,13,15,17,19,21.. Thus, the 10th term is 19.\n",
    "Constraints:\n",
    "-104 <= a1 , a2 <= 104\n",
    "1 <= n <= 104"
   ]
  },
  {
   "cell_type": "code",
   "execution_count": null,
   "id": "7cc040db",
   "metadata": {},
   "outputs": [
    {
     "name": "stdout",
     "output_type": "stream",
     "text": [
      "19\n"
     ]
    }
   ],
   "source": [
    "class Solution:\n",
    "    def nthTermOfAP(self, a1, a2, n) :\n",
    "        gap=a2-a1\n",
    "        nth=a1-gap\n",
    "        for i in range(1,n+1):\n",
    "            nth+=gap\n",
    "        return nth\n",
    "sl=Solution()\n",
    "a1,a2,n=1,3,10\n",
    "print(sl.nthTermOfAP(a1,a2,n)) # time compelexiy O(n) space O(1)"
   ]
  },
  {
   "cell_type": "code",
   "execution_count": 10,
   "id": "1ef84ff8",
   "metadata": {},
   "outputs": [
    {
     "name": "stdout",
     "output_type": "stream",
     "text": [
      "19\n"
     ]
    }
   ],
   "source": [
    "class Solution:\n",
    "    def nthTermOfAP(self, a1, a2, n) :\n",
    "        return a1+(n-1)*(a2-a1)\n",
    "sl=Solution()\n",
    "a1,a2,n=1,3,10\n",
    "print(sl.nthTermOfAP(a1,a2,n)) # time compelexiy O(1) space O(1)"
   ]
  }
 ],
 "metadata": {
  "kernelspec": {
   "display_name": "base",
   "language": "python",
   "name": "python3"
  },
  "language_info": {
   "codemirror_mode": {
    "name": "ipython",
    "version": 3
   },
   "file_extension": ".py",
   "mimetype": "text/x-python",
   "name": "python",
   "nbconvert_exporter": "python",
   "pygments_lexer": "ipython3",
   "version": "3.12.3"
  }
 },
 "nbformat": 4,
 "nbformat_minor": 5
}
