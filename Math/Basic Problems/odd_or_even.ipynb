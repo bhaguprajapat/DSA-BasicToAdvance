{
 "cells": [
  {
   "cell_type": "markdown",
   "id": "9ff98ae7",
   "metadata": {},
   "source": [
    "1. Given a positive integer n, determine whether it is odd or even. Return true if the number is even and false if the number is odd.\n",
    "\n",
    "Examples:\n",
    "\n",
    "Input: n = 15\n",
    "Output: false\n",
    "Explanation: The number is not divisible by 2, Odd number.\n",
    "Input: n = 44\n",
    "Output: true\n",
    "Explanation: The number is divisible by 2, Even number."
   ]
  },
  {
   "cell_type": "code",
   "execution_count": 1,
   "id": "3b2edf80",
   "metadata": {},
   "outputs": [
    {
     "name": "stdout",
     "output_type": "stream",
     "text": [
      "True\n"
     ]
    }
   ],
   "source": [
    "class Solution:\n",
    "    def isEven (self, n):\n",
    "        if n%2==0:\n",
    "            return True\n",
    "        return False\n",
    "sl=Solution()\n",
    "n=44\n",
    "print(sl.isEven(n))"
   ]
  },
  {
   "cell_type": "code",
   "execution_count": 2,
   "id": "7873b3d8",
   "metadata": {},
   "outputs": [
    {
     "name": "stdout",
     "output_type": "stream",
     "text": [
      "True\n"
     ]
    }
   ],
   "source": [
    "class Solution:\n",
    "    def isEven (self, n):\n",
    "        if n & 1==0:\n",
    "            return True\n",
    "        return False\n",
    "sl=Solution()\n",
    "n=44\n",
    "print(sl.isEven(n)) "
   ]
  }
 ],
 "metadata": {
  "kernelspec": {
   "display_name": "base",
   "language": "python",
   "name": "python3"
  },
  "language_info": {
   "codemirror_mode": {
    "name": "ipython",
    "version": 3
   },
   "file_extension": ".py",
   "mimetype": "text/x-python",
   "name": "python",
   "nbconvert_exporter": "python",
   "pygments_lexer": "ipython3",
   "version": "3.12.3"
  }
 },
 "nbformat": 4,
 "nbformat_minor": 5
}
