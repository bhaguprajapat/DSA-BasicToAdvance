{
 "cells": [
  {
   "cell_type": "markdown",
   "id": "ee0f0863",
   "metadata": {},
   "source": [
    "Swap two numbers\n",
    "You are given two numbers a and b. Your task is to swap the given two numbers.\n",
    "\n",
    "Note: Try to do it without a temporary variable.\n",
    "\n",
    "Examples:\n",
    "\n",
    "Input: a = 13, b = 9\n",
    "Output: 9 13\n",
    "Explanation: After swapping it becomes 9 and 13.\n",
    "Input: a = 15, b = 8\n",
    "Output: 8 15\n",
    "Explanation: after swapping it becomes 8 and 15.\n",
    "Constraints:\n",
    "1 ≤ a, b ≤ 106\n",
    "\n"
   ]
  },
  {
   "cell_type": "code",
   "execution_count": 3,
   "id": "7548c4be",
   "metadata": {},
   "outputs": [
    {
     "name": "stdout",
     "output_type": "stream",
     "text": [
      "a=9, b= 13\n"
     ]
    }
   ],
   "source": [
    "class Solution:\n",
    "    def get(self, a, b):\n",
    "        temp=a\n",
    "        return f\"a={b}, b= {temp}\"\n",
    "sl=Solution()\n",
    "a=13\n",
    "b=9\n",
    "print(sl.get(a,b))"
   ]
  },
  {
   "cell_type": "code",
   "execution_count": 7,
   "id": "87bf3445",
   "metadata": {},
   "outputs": [
    {
     "name": "stdout",
     "output_type": "stream",
     "text": [
      "9 13\n"
     ]
    }
   ],
   "source": [
    "class Solution:\n",
    "    def get(self, a, b):\n",
    "        a,b=b,a\n",
    "        return f\"{a} {b}\"\n",
    "sl=Solution()\n",
    "a=13\n",
    "b=9\n",
    "print(sl.get(a,b))"
   ]
  }
 ],
 "metadata": {
  "kernelspec": {
   "display_name": "base",
   "language": "python",
   "name": "python3"
  },
  "language_info": {
   "codemirror_mode": {
    "name": "ipython",
    "version": 3
   },
   "file_extension": ".py",
   "mimetype": "text/x-python",
   "name": "python",
   "nbconvert_exporter": "python",
   "pygments_lexer": "ipython3",
   "version": "3.12.3"
  }
 },
 "nbformat": 4,
 "nbformat_minor": 5
}
