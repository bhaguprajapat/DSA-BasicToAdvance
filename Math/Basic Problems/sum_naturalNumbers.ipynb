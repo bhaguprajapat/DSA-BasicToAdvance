{
 "cells": [
  {
   "cell_type": "markdown",
   "id": "5328d947",
   "metadata": {},
   "source": [
    "Sum of Natural Numbers\n",
    "Given an integer n, your task is to compute the sum of all natural numbers from 1 to n (inclusive). If n is 0, the sum should be 0.\n",
    "\n",
    "Examples:\n",
    "\n",
    "Input: n = 3\n",
    "Output: 6\n",
    "Explanation: For n = 3, the sum will be 6. 1 + 2 + 3 = 6.\n",
    "Input: n = 5\n",
    "Output: 15\n",
    "Explanation: For n = 5, the sum will be 15. 1 + 2 + 3 + 4 + 5 = 15.\n"
   ]
  },
  {
   "cell_type": "code",
   "execution_count": 2,
   "id": "47f2dbe3",
   "metadata": {},
   "outputs": [
    {
     "name": "stdout",
     "output_type": "stream",
     "text": [
      "15\n"
     ]
    }
   ],
   "source": [
    "class Solution:\n",
    "    def findSum(self, n):\n",
    "        nat_sum=0\n",
    "        for i in range(n+1):\n",
    "            nat_sum+=i\n",
    "        return nat_sum\n",
    "sl=Solution()\n",
    "n=5\n",
    "print(sl.findSum(n))"
   ]
  },
  {
   "cell_type": "code",
   "execution_count": 4,
   "id": "ae1b2463",
   "metadata": {},
   "outputs": [
    {
     "name": "stdout",
     "output_type": "stream",
     "text": [
      "16\n"
     ]
    }
   ],
   "source": [
    "class Solution:\n",
    "    def findSum(self, n):\n",
    "        if n==0:\n",
    "           return   1\n",
    "        return n+self.findSum(n-1)\n",
    "sl=Solution()\n",
    "n=5\n",
    "print(sl.findSum(n))"
   ]
  }
 ],
 "metadata": {
  "kernelspec": {
   "display_name": "base",
   "language": "python",
   "name": "python3"
  },
  "language_info": {
   "codemirror_mode": {
    "name": "ipython",
    "version": 3
   },
   "file_extension": ".py",
   "mimetype": "text/x-python",
   "name": "python",
   "nbconvert_exporter": "python",
   "pygments_lexer": "ipython3",
   "version": "3.12.3"
  }
 },
 "nbformat": 4,
 "nbformat_minor": 5
}
