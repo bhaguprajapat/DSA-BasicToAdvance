{
 "cells": [
  {
   "cell_type": "markdown",
   "id": "78d0ba0d",
   "metadata": {},
   "source": [
    "Closest Number\n",
    "Given two integers n and m (m != 0). The problem is to find the number closest to n and divisible by m. If there is more than one such number, then output the one having the maximum absolute value.\n",
    "\n",
    "Examples :\n",
    "\n",
    "Input: n = 13, m = 4\n",
    "Output: 12\n",
    "Explanation: 12 is the Closest Number to 13 which is divisible by 4.\n",
    "Input: n = -15, m = 6\n",
    "Output: -18\n",
    "Explanation: Both -12 and -18 are closest to -15 and divisible by 6, but -18 has the maximum absolute value. So, output is -18.\n",
    "Constraints:\n",
    "-105 ≤ n, m ≤ 105"
   ]
  },
  {
   "cell_type": "code",
   "execution_count": 2,
   "id": "ee2e8b53",
   "metadata": {},
   "outputs": [
    {
     "name": "stdout",
     "output_type": "stream",
     "text": [
      "12\n"
     ]
    }
   ],
   "source": [
    "class Solution:\n",
    "    def closestNumber(self, n, m):\n",
    "        q=int(n/m)\n",
    "        # 1st possible number\n",
    "        n1=m*q\n",
    "        # 2nd possible number\n",
    "        if (n*m)>0:\n",
    "            n2=(m*(q+1))\n",
    "        else:\n",
    "            n2=(m*(q-1))\n",
    "        # if true  then n1 is the required closest number\n",
    "        if(abs(n-n1)<abs(n-n2)):\n",
    "            return n1\n",
    "        else:\n",
    "            return n2\n",
    "sl= Solution()\n",
    "n,m=13,4\n",
    "print(sl.closestNumber(n,m))\n",
    "        "
   ]
  }
 ],
 "metadata": {
  "kernelspec": {
   "display_name": "base",
   "language": "python",
   "name": "python3"
  },
  "language_info": {
   "codemirror_mode": {
    "name": "ipython",
    "version": 3
   },
   "file_extension": ".py",
   "mimetype": "text/x-python",
   "name": "python",
   "nbconvert_exporter": "python",
   "pygments_lexer": "ipython3",
   "version": "3.12.3"
  }
 },
 "nbformat": 4,
 "nbformat_minor": 5
}
