{
 "cells": [
  {
   "cell_type": "markdown",
   "id": "f9a618d7",
   "metadata": {},
   "source": [
    "Multiplication Table\n",
    "Create the multiplication table from 1 to 10 for a given number n and return the table as an array.\n",
    "\n",
    "Examples:\n",
    "\n",
    "Input: n = 9\n",
    "Output: 9 18 27 36 45 54 63 72 81 90\n",
    "Input: n = 2\n",
    "Output: 2 4 6 8 10 12 14 16 18 20"
   ]
  },
  {
   "cell_type": "code",
   "execution_count": 1,
   "id": "b7b2f2a4",
   "metadata": {},
   "outputs": [
    {
     "name": "stdout",
     "output_type": "stream",
     "text": [
      "[2, 4, 6, 8, 10, 12, 14, 16, 18, 20]\n"
     ]
    }
   ],
   "source": [
    "class Solution:\n",
    "    def getTable(self,n):\n",
    "        table=[]\n",
    "        for i in range(1,11):\n",
    "            table_num=n*i\n",
    "            table.append(table_num)\n",
    "        return table\n",
    "sl=Solution()\n",
    "n=2\n",
    "print(sl.getTable(n))"
   ]
  },
  {
   "cell_type": "code",
   "execution_count": 2,
   "id": "0a95c3fa",
   "metadata": {},
   "outputs": [
    {
     "name": "stdout",
     "output_type": "stream",
     "text": [
      "2\n",
      "4\n",
      "6\n",
      "8\n",
      "10\n",
      "12\n",
      "14\n",
      "16\n",
      "18\n",
      "20\n",
      "None\n"
     ]
    }
   ],
   "source": [
    "class Solution:\n",
    "    def getTable(self,n,i=1):\n",
    "        if i==11:\n",
    "            return 1\n",
    "        print(i*n)\n",
    "        i+=1\n",
    "        self.getTable(n,i)\n",
    "\n",
    "sl=Solution()\n",
    "n=2\n",
    "print(sl.getTable(n))"
   ]
  }
 ],
 "metadata": {
  "kernelspec": {
   "display_name": "base",
   "language": "python",
   "name": "python3"
  },
  "language_info": {
   "codemirror_mode": {
    "name": "ipython",
    "version": 3
   },
   "file_extension": ".py",
   "mimetype": "text/x-python",
   "name": "python",
   "nbconvert_exporter": "python",
   "pygments_lexer": "ipython3",
   "version": "3.12.3"
  }
 },
 "nbformat": 4,
 "nbformat_minor": 5
}
