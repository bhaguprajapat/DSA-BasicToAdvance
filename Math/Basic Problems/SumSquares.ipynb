{
 "cells": [
  {
   "cell_type": "markdown",
   "id": "c8b8c2d1",
   "metadata": {},
   "source": [
    "Sum of Squares of First n Natural Numbers\n",
    "Given an integer n. The task is to calculate the sum of the squares of the first  n natural numbers.\n",
    "\n",
    "Examples:\n",
    "\n",
    "Input: n = 2\n",
    "Output: 5\n",
    "Explanation: 12 + 22 = 5\n",
    "Input: n = 3\n",
    "Output: 14\n",
    "Explanation: 12 + 22 + 32 = 5"
   ]
  },
  {
   "cell_type": "code",
   "execution_count": 11,
   "id": "30900ec8",
   "metadata": {},
   "outputs": [
    {
     "name": "stdout",
     "output_type": "stream",
     "text": [
      "14\n"
     ]
    }
   ],
   "source": [
    "#User function Template for python3\n",
    "class Solution:\n",
    "    # Function to calculate the sum of squares of first 'number' natural numbers\n",
    "    def sumOfSquares(self, number):\n",
    "        count=0\n",
    "        for i in range(1, number+1):\n",
    "            count+=i**2\n",
    "        return count\n",
    "sl =Solution()\n",
    "num=3\n",
    "print(sl.sumOfSquares(num))"
   ]
  }
 ],
 "metadata": {
  "kernelspec": {
   "display_name": "base",
   "language": "python",
   "name": "python3"
  },
  "language_info": {
   "codemirror_mode": {
    "name": "ipython",
    "version": 3
   },
   "file_extension": ".py",
   "mimetype": "text/x-python",
   "name": "python",
   "nbconvert_exporter": "python",
   "pygments_lexer": "ipython3",
   "version": "3.12.3"
  }
 },
 "nbformat": 4,
 "nbformat_minor": 5
}
